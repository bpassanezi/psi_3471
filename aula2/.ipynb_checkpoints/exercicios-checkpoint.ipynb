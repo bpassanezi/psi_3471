{
 "cells": [
  {
   "cell_type": "code",
   "execution_count": 1,
   "metadata": {},
   "outputs": [],
   "source": [
    "import cv2\n",
    "import queue\n",
    "\n",
    "import matplotlib.pyplot as plt"
   ]
  },
  {
   "cell_type": "code",
   "execution_count": 6,
   "metadata": {},
   "outputs": [],
   "source": [
    "def pintaPretoVermelho(a,li,ci):\n",
    "    b=a.copy()\n",
    "    q=queue.Queue()\n",
    "    q.put(li) #1\n",
    "    q.put(ci) #1\n",
    "    while not q.empty(): #2\n",
    "        l=q.get() #3\n",
    "        c=q.get() #3\n",
    "        if all(b[l,c,:]==[0,0,0]): #4\n",
    "            b[l,c]=[255,0,0] #5\n",
    "            q.put(l-1); q.put(c) #6-acima\n",
    "            q.put(l+1); q.put(c) #6-abaixo\n",
    "            q.put(l); q.put(c+1) #6-direita\n",
    "            q.put(l); q.put(c-1) #6-esquerda\n",
    "    return b;"
   ]
  },
  {
   "cell_type": "code",
   "execution_count": 7,
   "metadata": {},
   "outputs": [],
   "source": [
    "def contaConexos(a): \n",
    "    b = a.copy()\n",
    "    q = queue.Queue()\n",
    "    \n",
    "    q.put(0) # 1\n",
    "    q.put(0) # 1\n",
    "    \n",
    "    count = 0\n",
    "    \n",
    "    for l in range(b.shape[0]):\n",
    "        for c in range(b.shape[1]):\n",
    "            if all(b[l,c,:] == [0,0,0]): # se nao for branco\n",
    "                count = count + 1\n",
    "                b = pintaPretoVermelho(b, l, c)\n",
    "                plt.imshow(b)\n",
    "                \n",
    "    print(f\"Numero de componentes conexos: {count}\")\n",
    "    return b"
   ]
  },
  {
   "cell_type": "code",
   "execution_count": 8,
   "metadata": {
    "scrolled": true
   },
   "outputs": [
    {
     "data": {
      "text/plain": [
       "<matplotlib.image.AxesImage at 0x12399a128>"
      ]
     },
     "execution_count": 8,
     "metadata": {},
     "output_type": "execute_result"
    },
    {
     "data": {
      "image/png": "[encoded data removed]",
      "text/plain": [
       "<Figure size 432x288 with 1 Axes>"
      ]
     },
     "metadata": {
      "needs_background": "light"
     },
     "output_type": "display_data"
    }
   ],
   "source": [
    "letras = cv2.imread('letras.bmp',cv2.IMREAD_COLOR)\n",
    "\n",
    "plt.imshow(letras)"
   ]
  },
  {
   "cell_type": "code",
   "execution_count": 9,
   "metadata": {},
   "outputs": [
    {
     "name": "stdout",
     "output_type": "stream",
     "text": [
      "Numero de componentes conexos: 31\n"
     ]
    },
    {
     "data": {
      "text/plain": [
       "<matplotlib.image.AxesImage at 0x1237d6550>"
      ]
     },
     "execution_count": 9,
     "metadata": {},
     "output_type": "execute_result"
    },
    {
     "data": {
      "image/png": "[encoded data removed]",
      "text/plain": [
       "<Figure size 432x288 with 1 Axes>"
      ]
     },
     "metadata": {
      "needs_background": "light"
     },
     "output_type": "display_data"
    }
   ],
   "source": [
    "la = contaConexos(letras)\n",
    "plt.imshow(la)"
   ]
  },
  {
   "cell_type": "code",
   "execution_count": null,
   "metadata": {},
   "outputs": [],
   "source": []
  }
 ],
 "metadata": {
  "kernelspec": {
   "display_name": "Python 3",
   "language": "python",
   "name": "python3"
  },
  "language_info": {
   "codemirror_mode": {
    "name": "ipython",
    "version": 3
   },
   "file_extension": ".py",
   "mimetype": "text/x-python",
   "name": "python",
   "nbconvert_exporter": "python",
   "pygments_lexer": "ipython3",
   "version": "3.6.8"
  }
 },
 "nbformat": 4,
 "nbformat_minor": 2
}
