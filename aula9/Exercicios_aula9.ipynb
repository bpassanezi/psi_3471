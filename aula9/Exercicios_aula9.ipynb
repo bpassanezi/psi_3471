{
 "cells": [
  {
   "cell_type": "code",
   "execution_count": 114,
   "metadata": {},
   "outputs": [],
   "source": [
    "import matplotlib.pyplot as plt\n",
    "import numpy as np\n",
    "import cv2"
   ]
  },
  {
   "cell_type": "code",
   "execution_count": 115,
   "metadata": {
    "scrolled": true
   },
   "outputs": [],
   "source": [
    "# Loading MNIST data\n",
    "import keras\n",
    "mnist = keras.datasets.mnist\n",
    "(x_train, y_train),(x_test, y_test) = mnist.load_data()"
   ]
  },
  {
   "cell_type": "code",
   "execution_count": 116,
   "metadata": {},
   "outputs": [],
   "source": [
    "x_train = np.array([255 - cv2.resize(image, (14, 14)) for image in x_train])\n",
    "x_test = np.array([255 - cv2.resize(image, (14, 14)) for image in x_test])"
   ]
  },
  {
   "cell_type": "code",
   "execution_count": 117,
   "metadata": {},
   "outputs": [],
   "source": [
    "x_train_unpacked = np.array([np.concatenate(image) for image in x_train])/255.0\n",
    "x_test_unpacked = np.array([np.concatenate(image) for image in x_test])/255.0"
   ]
  },
  {
   "cell_type": "code",
   "execution_count": 118,
   "metadata": {
    "scrolled": true
   },
   "outputs": [
    {
     "data": {
      "image/png": "[encoded data removed]",
      "text/plain": [
       "<Figure size 1800x720 with 10 Axes>"
      ]
     },
     "metadata": {
      "needs_background": "light"
     },
     "output_type": "display_data"
    }
   ],
   "source": [
    "fig, ax = plt.subplots(1, 10, figsize=(25, 10))\n",
    "\n",
    "for i in range(10):\n",
    "    ax[i].imshow(x_train[i], cmap=\"gray\")\n",
    "    ax[i].set_title(y_train[i])\n",
    "    \n",
    "plt.show()"
   ]
  },
  {
   "cell_type": "markdown",
   "metadata": {},
   "source": [
    "# Training different classifiers"
   ]
  },
  {
   "cell_type": "code",
   "execution_count": 119,
   "metadata": {},
   "outputs": [],
   "source": [
    "from sklearn.neighbors import KNeighborsClassifier, KDTree\n",
    "from sklearn.tree import DecisionTreeClassifier\n",
    "from sklearn.ensemble import RandomForestClassifier, AdaBoostClassifier\n",
    "from sklearn.metrics import accuracy_score"
   ]
  },
  {
   "cell_type": "code",
   "execution_count": 120,
   "metadata": {},
   "outputs": [],
   "source": [
    "x_train_sample = x_train_unpacked[0:10000]\n",
    "y_train_sample = y_train[0:10000]\n",
    "x_validation_sample = x_train_unpacked[10000:11000]\n",
    "y_validation_sample = y_train[10000:11000]"
   ]
  },
  {
   "cell_type": "code",
   "execution_count": 121,
   "metadata": {},
   "outputs": [
    {
     "name": "stdout",
     "output_type": "stream",
     "text": [
      "N_neighbors: 1, Weight: distance, Error rate: 4.0000000000000036%\n",
      "N_neighbors: 2, Weight: distance, Error rate: 4.0000000000000036%\n",
      "N_neighbors: 3, Weight: distance, Error rate: 3.200000000000003%\n",
      "N_neighbors: 4, Weight: distance, Error rate: 3.200000000000003%\n",
      "N_neighbors: 5, Weight: distance, Error rate: 3.200000000000003%\n",
      "N_neighbors: 6, Weight: distance, Error rate: 3.200000000000003%\n",
      "N_neighbors: 7, Weight: distance, Error rate: 3.1000000000000028%\n",
      "N_neighbors: 8, Weight: distance, Error rate: 3.200000000000003%\n",
      "N_neighbors: 9, Weight: distance, Error rate: 3.8000000000000034%\n"
     ]
    }
   ],
   "source": [
    "# KNN\n",
    "for i in range(1, 10):\n",
    "    weight = \"distance\"\n",
    "    \n",
    "    clf = KNeighborsClassifier(i, n_jobs=8, weights = weight)\n",
    "    clf.fit(x_train_sample, y_train_sample)\n",
    "\n",
    "    y_pred = clf.predict(x_validation_sample)\n",
    "\n",
    "    accuracy = accuracy_score(y_validation_sample, y_pred, normalize=True, sample_weight=None)\n",
    "    error = 1 - accuracy\n",
    "\n",
    "    print(f\"N_neighbors: {i}, Weight: {weight}, Error rate: {error*100}%\")"
   ]
  },
  {
   "cell_type": "code",
   "execution_count": 122,
   "metadata": {},
   "outputs": [
    {
     "name": "stdout",
     "output_type": "stream",
     "text": [
      "Error rate: 2.529999999999999%\n"
     ]
    }
   ],
   "source": [
    "n_neighbors = 5\n",
    "\n",
    "clf = KNeighborsClassifier(n_neighbors, n_jobs=8, weights = \"distance\")\n",
    "\n",
    "clf.fit(x_train_unpacked, y_train)\n",
    "\n",
    "y_pred = clf.predict(x_test_unpacked)\n",
    "\n",
    "accuracy = accuracy_score(y_test, y_pred, normalize=True, sample_weight=None)\n",
    "error = 1 - accuracy\n",
    "\n",
    "print(f\"Error rate: {error*100}%\")"
   ]
  }
 ],
 "metadata": {
  "kernelspec": {
   "display_name": "Python 3",
   "language": "python",
   "name": "python3"
  },
  "language_info": {
   "codemirror_mode": {
    "name": "ipython",
    "version": 3
   },
   "file_extension": ".py",
   "mimetype": "text/x-python",
   "name": "python",
   "nbconvert_exporter": "python",
   "pygments_lexer": "ipython3",
   "version": "3.6.8"
  }
 },
 "nbformat": 4,
 "nbformat_minor": 2
}
