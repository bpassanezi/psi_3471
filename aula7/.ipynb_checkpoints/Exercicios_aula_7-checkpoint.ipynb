{
 "cells": [
  {
   "cell_type": "code",
   "execution_count": 1,
   "metadata": {},
   "outputs": [],
   "source": [
    "import cv2\n",
    "import numpy as np\n",
    "import matplotlib.pyplot as plt"
   ]
  },
  {
   "cell_type": "markdown",
   "metadata": {},
   "source": [
    "#### Lição de casa 1\n",
    "A imagem horver.png contém traços horizontais e verticais. Escreva um programa\n",
    "que lê horver.png e separa os traços horizontais dos verticais usando morfologia matemática,\n",
    "gerando hor.png e ver.png respectivamente com traços horizontais e verticais somente."
   ]
  },
  {
   "cell_type": "code",
   "execution_count": 16,
   "metadata": {},
   "outputs": [],
   "source": [
    "horver = cv2.imread(\"horver.png\")"
   ]
  },
  {
   "cell_type": "code",
   "execution_count": 14,
   "metadata": {},
   "outputs": [],
   "source": [
    "kernel_hor = np.array([[1, 1, 1, 1, 1]],np.uint8)  # kernel para detectar traços horizontais\n",
    "kernel_ver = np.array([[1],[1], [1], [1]],np.uint8)  # kernel para detectar traços verticais"
   ]
  },
  {
   "cell_type": "code",
   "execution_count": 15,
   "metadata": {},
   "outputs": [],
   "source": [
    "# Aplicando abertura na imagem usando os respectivos kernels\n",
    "horver_hor = cv2.morphologyEx(horver, cv2.MORPH_OPEN, kernel_hor)\n",
    "horver_ver = cv2.morphologyEx(horver, cv2.MORPH_OPEN, kernel_ver)"
   ]
  },
  {
   "cell_type": "code",
   "execution_count": 27,
   "metadata": {},
   "outputs": [
    {
     "data": {
      "text/plain": [
       "Text(0.5, 1.0, 'Imagem com traços verticais')"
      ]
     },
     "execution_count": 27,
     "metadata": {},
     "output_type": "execute_result"
    },
    {
     "data": {
      "image/png": "[encoded data removed]",
      "text/plain": [
       "<Figure size 864x432 with 3 Axes>"
      ]
     },
     "metadata": {
      "needs_background": "light"
     },
     "output_type": "display_data"
    }
   ],
   "source": [
    "# Exibindo as imagens criadas\n",
    "fig, ax = plt.subplots(1, 3, figsize=(12, 6))\n",
    "\n",
    "ax[0].imshow(horver)\n",
    "ax[0].set_title(\"Imagem original\")\n",
    "\n",
    "ax[1].imshow(horver_hor)\n",
    "ax[1].set_title(\"Imagem com traços horizontais\")\n",
    "\n",
    "ax[2].imshow(horver_ver)\n",
    "ax[2].set_title(\"Imagem com traços verticais\")"
   ]
  },
  {
   "cell_type": "code",
   "execution_count": 28,
   "metadata": {},
   "outputs": [
    {
     "data": {
      "text/plain": [
       "True"
      ]
     },
     "execution_count": 28,
     "metadata": {},
     "output_type": "execute_result"
    }
   ],
   "source": [
    "# Salvando as imagens\n",
    "cv2.imwrite(\"hor.png\", horver_hor)\n",
    "cv2.imwrite(\"ver.png\", horver_ver)"
   ]
  }
 ],
 "metadata": {
  "kernelspec": {
   "display_name": "Python 3",
   "language": "python",
   "name": "python3"
  },
  "language_info": {
   "codemirror_mode": {
    "name": "ipython",
    "version": 3
   },
   "file_extension": ".py",
   "mimetype": "text/x-python",
   "name": "python",
   "nbconvert_exporter": "python",
   "pygments_lexer": "ipython3",
   "version": "3.6.8"
  }
 },
 "nbformat": 4,
 "nbformat_minor": 2
}
